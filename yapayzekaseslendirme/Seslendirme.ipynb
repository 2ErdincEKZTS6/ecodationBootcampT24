{
 "cells": [
  {
   "cell_type": "markdown",
   "id": "5b3eaa0f-c768-41be-9ae7-36ee3b2f2297",
   "metadata": {},
   "source": [
    "## Text to speech"
   ]
  },
  {
   "cell_type": "code",
   "execution_count": 1,
   "id": "7e284f98-ba30-4e2c-9cab-9a7d39fd7584",
   "metadata": {},
   "outputs": [
    {
     "name": "stdout",
     "output_type": "stream",
     "text": [
      "Collecting gtts\n",
      "  Downloading gTTS-2.5.3-py3-none-any.whl.metadata (4.1 kB)\n",
      "Requirement already satisfied: requests<3,>=2.27 in c:\\programdata\\anaconda3\\lib\\site-packages (from gtts) (2.32.2)\n",
      "Requirement already satisfied: click<8.2,>=7.1 in c:\\programdata\\anaconda3\\lib\\site-packages (from gtts) (8.1.7)\n",
      "Requirement already satisfied: colorama in c:\\programdata\\anaconda3\\lib\\site-packages (from click<8.2,>=7.1->gtts) (0.4.6)\n",
      "Requirement already satisfied: charset-normalizer<4,>=2 in c:\\programdata\\anaconda3\\lib\\site-packages (from requests<3,>=2.27->gtts) (2.0.4)\n",
      "Requirement already satisfied: idna<4,>=2.5 in c:\\programdata\\anaconda3\\lib\\site-packages (from requests<3,>=2.27->gtts) (3.7)\n",
      "Requirement already satisfied: urllib3<3,>=1.21.1 in c:\\programdata\\anaconda3\\lib\\site-packages (from requests<3,>=2.27->gtts) (2.2.2)\n",
      "Requirement already satisfied: certifi>=2017.4.17 in c:\\programdata\\anaconda3\\lib\\site-packages (from requests<3,>=2.27->gtts) (2024.6.2)\n",
      "Downloading gTTS-2.5.3-py3-none-any.whl (29 kB)\n",
      "Installing collected packages: gtts\n",
      "Successfully installed gtts-2.5.3\n",
      "Note: you may need to restart the kernel to use updated packages.\n"
     ]
    }
   ],
   "source": [
    "pip install gtts"
   ]
  },
  {
   "cell_type": "code",
   "execution_count": 3,
   "id": "aa85a887-b9f3-4af9-8180-8c866cf9d890",
   "metadata": {},
   "outputs": [],
   "source": [
    "from gtts import gTTS"
   ]
  },
  {
   "cell_type": "code",
   "execution_count": 5,
   "id": "91c906ff-43e1-48e0-ab90-b8dcb8ea5a11",
   "metadata": {},
   "outputs": [],
   "source": [
    "text='Merhaba ben yapay zekâ asistanıyım. Size nasıl yardımcı olabilirim'"
   ]
  },
  {
   "cell_type": "code",
   "execution_count": 8,
   "id": "3e57b2cd-0c96-474e-af36-17fd4331252f",
   "metadata": {},
   "outputs": [],
   "source": [
    "kayit=gTTS(text=text,\n",
    "          lang='tr',\n",
    "          slow=False)\n",
    "kayit.save('merhaba_yz.mp3')"
   ]
  },
  {
   "cell_type": "code",
   "execution_count": 9,
   "id": "457079ee-da90-49ec-af50-58e8fb3d5466",
   "metadata": {},
   "outputs": [],
   "source": [
    "kayit=gTTS(text=text,\n",
    "          lang='fr',\n",
    "          slow=False)\n",
    "kayit.save('merhaba_yz_fr.mp3')"
   ]
  },
  {
   "cell_type": "code",
   "execution_count": null,
   "id": "a171e4e3-b403-4246-b5c4-d768aded42ea",
   "metadata": {},
   "outputs": [],
   "source": []
  }
 ],
 "metadata": {
  "kernelspec": {
   "display_name": "Python 3 (ipykernel)",
   "language": "python",
   "name": "python3"
  },
  "language_info": {
   "codemirror_mode": {
    "name": "ipython",
    "version": 3
   },
   "file_extension": ".py",
   "mimetype": "text/x-python",
   "name": "python",
   "nbconvert_exporter": "python",
   "pygments_lexer": "ipython3",
   "version": "3.12.4"
  }
 },
 "nbformat": 4,
 "nbformat_minor": 5
}
