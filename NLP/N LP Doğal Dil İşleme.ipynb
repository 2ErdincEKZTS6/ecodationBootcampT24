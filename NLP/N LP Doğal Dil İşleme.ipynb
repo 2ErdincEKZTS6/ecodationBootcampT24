{
 "cells": [
  {
   "cell_type": "markdown",
   "id": "6c306623-bc87-4c15-b6e4-9cc15ace2551",
   "metadata": {},
   "source": [
    "## NLP: Natural Language Processing "
   ]
  },
  {
   "cell_type": "markdown",
   "id": "e065e907-2456-4f2a-aa86-8f85a9c93354",
   "metadata": {},
   "source": [
    "## Kütüphaneleri Yükle"
   ]
  },
  {
   "cell_type": "code",
   "execution_count": 4,
   "id": "0a46809f-d78f-4f1e-b617-1e9de8efd0a3",
   "metadata": {},
   "outputs": [],
   "source": [
    "import pandas as pd\n",
    "from sklearn.feature_extraction.text import CountVectorizer\n",
    "from sklearn.naive_bayes import BernoulliNB\n",
    "from sklearn.model_selection import train_test_split\n",
    "from sklearn.metrics import accuracy_score\n",
    "import pickle\n",
    "import numpy as np"
   ]
  },
  {
   "cell_type": "code",
   "execution_count": 7,
   "id": "e2ad59e2-e946-46a3-bf2a-8f53abb5bba2",
   "metadata": {},
   "outputs": [],
   "source": [
    "import warnings\n",
    "warnings.filterwarnings('ignore')"
   ]
  },
  {
   "cell_type": "markdown",
   "id": "db3cfde1-d5e1-4191-a6df-03584c50ac18",
   "metadata": {},
   "source": [
    "## Veriyi Yükle"
   ]
  },
  {
   "cell_type": "code",
   "execution_count": 8,
   "id": "85c80ea5-8c5c-4993-adff-038e08987bc2",
   "metadata": {},
   "outputs": [
    {
     "name": "stdout",
     "output_type": "stream",
     "text": [
      " Volume in drive C has no label.\n",
      " Volume Serial Number is 3073-49B7\n",
      "\n",
      " Directory of C:\\Users\\murat\\Documents\\EcodationBootcamp\\day17\n",
      "\n",
      "20.09.2024  22:11    <DIR>          .\n",
      "20.09.2024  22:03    <DIR>          ..\n",
      "20.09.2024  22:03    <DIR>          .ipynb_checkpoints\n",
      "20.09.2024  22:11             1.419 N LP Do§al Dil ˜Ÿleme.ipynb\n",
      "25.02.2024  08:05            57.438 youtube.csv\n",
      "               2 File(s)         58.857 bytes\n",
      "               3 Dir(s)  28.583.522.304 bytes free\n"
     ]
    }
   ],
   "source": [
    "ls"
   ]
  },
  {
   "cell_type": "code",
   "execution_count": 9,
   "id": "f7982e0a-5c3d-4746-83bc-62565ddb6427",
   "metadata": {},
   "outputs": [],
   "source": [
    "df=pd.read_csv('youtube.csv')"
   ]
  },
  {
   "cell_type": "markdown",
   "id": "a0374f59-500d-4e23-a3a0-a3940f886035",
   "metadata": {},
   "source": [
    "## Veri Ön işleme"
   ]
  },
  {
   "cell_type": "code",
   "execution_count": 10,
   "id": "58a91315-2880-4bd2-94df-32832b768cb6",
   "metadata": {},
   "outputs": [
    {
     "data": {
      "text/html": [
       "<div>\n",
       "<style scoped>\n",
       "    .dataframe tbody tr th:only-of-type {\n",
       "        vertical-align: middle;\n",
       "    }\n",
       "\n",
       "    .dataframe tbody tr th {\n",
       "        vertical-align: top;\n",
       "    }\n",
       "\n",
       "    .dataframe thead th {\n",
       "        text-align: right;\n",
       "    }\n",
       "</style>\n",
       "<table border=\"1\" class=\"dataframe\">\n",
       "  <thead>\n",
       "    <tr style=\"text-align: right;\">\n",
       "      <th></th>\n",
       "      <th>COMMENT_ID</th>\n",
       "      <th>AUTHOR</th>\n",
       "      <th>DATE</th>\n",
       "      <th>CONTENT</th>\n",
       "      <th>CLASS</th>\n",
       "    </tr>\n",
       "  </thead>\n",
       "  <tbody>\n",
       "    <tr>\n",
       "      <th>0</th>\n",
       "      <td>LZQPQhLyRh80UYxNuaDWhIGQYNQ96IuCg-AYWqNPjpU</td>\n",
       "      <td>Julius NM</td>\n",
       "      <td>2013-11-07T06:20:48</td>\n",
       "      <td>Huh, anyway check out this you[tube] channel: ...</td>\n",
       "      <td>1</td>\n",
       "    </tr>\n",
       "    <tr>\n",
       "      <th>1</th>\n",
       "      <td>LZQPQhLyRh_C2cTtd9MvFRJedxydaVW-2sNg5Diuo4A</td>\n",
       "      <td>adam riyati</td>\n",
       "      <td>2013-11-07T12:37:15</td>\n",
       "      <td>Hey guys check out my new channel and our firs...</td>\n",
       "      <td>1</td>\n",
       "    </tr>\n",
       "    <tr>\n",
       "      <th>2</th>\n",
       "      <td>LZQPQhLyRh9MSZYnf8djyk0gEF9BHDPYrrK-qCczIY8</td>\n",
       "      <td>Evgeny Murashkin</td>\n",
       "      <td>2013-11-08T17:34:21</td>\n",
       "      <td>just for test I have to say murdev.com</td>\n",
       "      <td>1</td>\n",
       "    </tr>\n",
       "    <tr>\n",
       "      <th>3</th>\n",
       "      <td>z13jhp0bxqncu512g22wvzkasxmvvzjaz04</td>\n",
       "      <td>ElNino Melendez</td>\n",
       "      <td>2013-11-09T08:28:43</td>\n",
       "      <td>me shaking my sexy ass on my channel enjoy ^_^ ﻿</td>\n",
       "      <td>1</td>\n",
       "    </tr>\n",
       "    <tr>\n",
       "      <th>4</th>\n",
       "      <td>z13fwbwp1oujthgqj04chlngpvzmtt3r3dw</td>\n",
       "      <td>GsMega</td>\n",
       "      <td>2013-11-10T16:05:38</td>\n",
       "      <td>watch?v=vtaRGgvGtWQ   Check this out .﻿</td>\n",
       "      <td>1</td>\n",
       "    </tr>\n",
       "  </tbody>\n",
       "</table>\n",
       "</div>"
      ],
      "text/plain": [
       "                                    COMMENT_ID            AUTHOR  \\\n",
       "0  LZQPQhLyRh80UYxNuaDWhIGQYNQ96IuCg-AYWqNPjpU         Julius NM   \n",
       "1  LZQPQhLyRh_C2cTtd9MvFRJedxydaVW-2sNg5Diuo4A       adam riyati   \n",
       "2  LZQPQhLyRh9MSZYnf8djyk0gEF9BHDPYrrK-qCczIY8  Evgeny Murashkin   \n",
       "3          z13jhp0bxqncu512g22wvzkasxmvvzjaz04   ElNino Melendez   \n",
       "4          z13fwbwp1oujthgqj04chlngpvzmtt3r3dw            GsMega   \n",
       "\n",
       "                  DATE                                            CONTENT  \\\n",
       "0  2013-11-07T06:20:48  Huh, anyway check out this you[tube] channel: ...   \n",
       "1  2013-11-07T12:37:15  Hey guys check out my new channel and our firs...   \n",
       "2  2013-11-08T17:34:21             just for test I have to say murdev.com   \n",
       "3  2013-11-09T08:28:43   me shaking my sexy ass on my channel enjoy ^_^ ﻿   \n",
       "4  2013-11-10T16:05:38            watch?v=vtaRGgvGtWQ   Check this out .﻿   \n",
       "\n",
       "   CLASS  \n",
       "0      1  \n",
       "1      1  \n",
       "2      1  \n",
       "3      1  \n",
       "4      1  "
      ]
     },
     "execution_count": 10,
     "metadata": {},
     "output_type": "execute_result"
    }
   ],
   "source": [
    "df.head()"
   ]
  },
  {
   "cell_type": "code",
   "execution_count": 11,
   "id": "c922367d-7af4-4698-b75d-17c8582841f0",
   "metadata": {},
   "outputs": [
    {
     "data": {
      "text/html": [
       "<div>\n",
       "<style scoped>\n",
       "    .dataframe tbody tr th:only-of-type {\n",
       "        vertical-align: middle;\n",
       "    }\n",
       "\n",
       "    .dataframe tbody tr th {\n",
       "        vertical-align: top;\n",
       "    }\n",
       "\n",
       "    .dataframe thead th {\n",
       "        text-align: right;\n",
       "    }\n",
       "</style>\n",
       "<table border=\"1\" class=\"dataframe\">\n",
       "  <thead>\n",
       "    <tr style=\"text-align: right;\">\n",
       "      <th></th>\n",
       "      <th>CONTENT</th>\n",
       "      <th>CLASS</th>\n",
       "    </tr>\n",
       "  </thead>\n",
       "  <tbody>\n",
       "    <tr>\n",
       "      <th>0</th>\n",
       "      <td>Huh, anyway check out this you[tube] channel: ...</td>\n",
       "      <td>1</td>\n",
       "    </tr>\n",
       "    <tr>\n",
       "      <th>1</th>\n",
       "      <td>Hey guys check out my new channel and our firs...</td>\n",
       "      <td>1</td>\n",
       "    </tr>\n",
       "    <tr>\n",
       "      <th>2</th>\n",
       "      <td>just for test I have to say murdev.com</td>\n",
       "      <td>1</td>\n",
       "    </tr>\n",
       "    <tr>\n",
       "      <th>3</th>\n",
       "      <td>me shaking my sexy ass on my channel enjoy ^_^ ﻿</td>\n",
       "      <td>1</td>\n",
       "    </tr>\n",
       "    <tr>\n",
       "      <th>4</th>\n",
       "      <td>watch?v=vtaRGgvGtWQ   Check this out .﻿</td>\n",
       "      <td>1</td>\n",
       "    </tr>\n",
       "    <tr>\n",
       "      <th>...</th>\n",
       "      <td>...</td>\n",
       "      <td>...</td>\n",
       "    </tr>\n",
       "    <tr>\n",
       "      <th>345</th>\n",
       "      <td>How can this have 2 billion views when there's...</td>\n",
       "      <td>0</td>\n",
       "    </tr>\n",
       "    <tr>\n",
       "      <th>346</th>\n",
       "      <td>I don't now why I'm watching this in 2014﻿</td>\n",
       "      <td>0</td>\n",
       "    </tr>\n",
       "    <tr>\n",
       "      <th>347</th>\n",
       "      <td>subscribe to me for call of duty vids and give...</td>\n",
       "      <td>1</td>\n",
       "    </tr>\n",
       "    <tr>\n",
       "      <th>348</th>\n",
       "      <td>hi guys please my android photo editor downloa...</td>\n",
       "      <td>1</td>\n",
       "    </tr>\n",
       "    <tr>\n",
       "      <th>349</th>\n",
       "      <td>The first billion viewed this because they tho...</td>\n",
       "      <td>0</td>\n",
       "    </tr>\n",
       "  </tbody>\n",
       "</table>\n",
       "<p>350 rows × 2 columns</p>\n",
       "</div>"
      ],
      "text/plain": [
       "                                               CONTENT  CLASS\n",
       "0    Huh, anyway check out this you[tube] channel: ...      1\n",
       "1    Hey guys check out my new channel and our firs...      1\n",
       "2               just for test I have to say murdev.com      1\n",
       "3     me shaking my sexy ass on my channel enjoy ^_^ ﻿      1\n",
       "4              watch?v=vtaRGgvGtWQ   Check this out .﻿      1\n",
       "..                                                 ...    ...\n",
       "345  How can this have 2 billion views when there's...      0\n",
       "346         I don't now why I'm watching this in 2014﻿      0\n",
       "347  subscribe to me for call of duty vids and give...      1\n",
       "348  hi guys please my android photo editor downloa...      1\n",
       "349  The first billion viewed this because they tho...      0\n",
       "\n",
       "[350 rows x 2 columns]"
      ]
     },
     "execution_count": 11,
     "metadata": {},
     "output_type": "execute_result"
    }
   ],
   "source": [
    "df[['CONTENT', 'CLASS']]"
   ]
  },
  {
   "cell_type": "code",
   "execution_count": 14,
   "id": "12019d1a-e44a-4997-a32a-f86fbc88d557",
   "metadata": {},
   "outputs": [
    {
     "data": {
      "text/plain": [
       "('i turned it on mute as soon is i came on i just wanted to check the  views...\\ufeff',\n",
       " '0')"
      ]
     },
     "execution_count": 14,
     "metadata": {},
     "output_type": "execute_result"
    }
   ],
   "source": [
    "str(df['CONTENT'][7]), str(df['CLASS'][7])"
   ]
  },
  {
   "cell_type": "markdown",
   "id": "4c89b15d-1396-4832-8931-4e8921e67adc",
   "metadata": {},
   "source": [
    "## Özellikler ve Hedef"
   ]
  },
  {
   "cell_type": "code",
   "execution_count": 15,
   "id": "b352212a-4b76-491c-b277-1287319746dd",
   "metadata": {},
   "outputs": [],
   "source": [
    "X=np.array(df['CONTENT'])\n",
    "y=np.array(df['CLASS'])"
   ]
  },
  {
   "cell_type": "code",
   "execution_count": 16,
   "id": "1cd7e6f6-b631-449d-a7a1-5921cf14cb46",
   "metadata": {},
   "outputs": [
    {
     "data": {
      "text/plain": [
       "array(['Huh, anyway check out this you[tube] channel: kobyoshi02',\n",
       "       \"Hey guys check out my new channel and our first vid THIS IS US THE  MONKEYS!!! I'm the monkey in the white shirt,please leave a like comment  and please subscribe!!!!\",\n",
       "       'just for test I have to say murdev.com',\n",
       "       'me shaking my sexy ass on my channel enjoy ^_^ \\ufeff',\n",
       "       'watch?v=vtaRGgvGtWQ   Check this out .\\ufeff',\n",
       "       'Hey, check out my new website!! This site is about kids stuff. kidsmediausa  . com',\n",
       "       'Subscribe to my channel \\ufeff',\n",
       "       'i turned it on mute as soon is i came on i just wanted to check the  views...\\ufeff',\n",
       "       'You should check my channel for Funny VIDEOS!!\\ufeff',\n",
       "       'and u should.d check my channel and tell me what I should do next!\\ufeff',\n",
       "       'Hey subscribe to me\\ufeff',\n",
       "       \" Once you have started reading do not stop. If you do not subscribe to me  within one day you and you're entire family will die so if you want to stay  alive subscribe right now.\\ufeff\",\n",
       "       'https://twitter.com/GBphotographyGB\\ufeff',\n",
       "       'subscribe like comment\\ufeff',\n",
       "       'please like :D https://premium.easypromosapp.com/voteme/19924/616375350\\ufeff',\n",
       "       \"Hello! Do you like gaming, art videos, scientific experiments, tutorials,  lyrics videos, and much, much more of that? If you do please check out our  channel and subscribe to it, we've just started, but soon we hope we will  be able to cover all of our expectations... You can also check out what  we've got so far!\\ufeff\",\n",
       "       \"I'm only checking the views\\ufeff\",\n",
       "       'http://www.ebay.com/itm/171183229277?ssPageName=STRK:MESELX:IT&amp;_trksid=p3984.m1555.l2649 \\ufeff',\n",
       "       'http://ubuntuone.com/40beUutVu2ZKxK4uTgPZ8K\\ufeff',\n",
       "       'We are an EDM apparel company dedicated to bringing you music inspired  designs. Our clothing is perfect for any rave or music festival. We have  NEON crop tops, tank tops, t-shirts, v-necks and accessories! follow us on  Facebook or on instagraml for free giveaways news and more!! visit our site  at OnCueApparel\\ufeff',\n",
       "       'i think about 100 millions of the views come from people who only wanted to  check the views\\ufeff',\n",
       "       'subscribe to my channel people :D\\ufeff',\n",
       "       'Show your AUBURN PRIDE HERE: http://www.teespring.com/tigermeathoodie\\ufeff',\n",
       "       'just checking the views\\ufeff', 'CHECK OUT MY CHANNEL',\n",
       "       'marketglory . com/strategygame/andrijamatf earn real money from game',\n",
       "       'Hey guys! Im a 12 yr old music producer. I make chiptunes and 8bit music.  It would be wonderful if you checked out some of my 8bit remixes! I even  have a gangnamstyle 8bit remix if you would like to check that out ;)  Thanks!!',\n",
       "       \"Check me out! I'm kyle. I rap so yeah \\ufeff\",\n",
       "       'I dont even watch it anymore i just come here to check on 2 Billion or not\\ufeff',\n",
       "       'Subscribe to me for free Android games, apps.. \\ufeff',\n",
       "       'everyone please come check our newest song in memories of Martin Luther  King Jr.\\ufeff',\n",
       "       'Came here to check the views, goodbye.\\ufeff',\n",
       "       'sub my channel for no reason -_-\\ufeff',\n",
       "       'Check out my dubstep song \"Fireball\", made with Fruity Loops. I really took  time in it.  /watch?v=telOA6RIO8o\\ufeff',\n",
       "       '2 billion....Coming soon\\ufeff',\n",
       "       'Why dafuq is a Korean song so big in the USA. Does that mean we support  Koreans? Last time I checked they wanted to bomb us. \\ufeff',\n",
       "       'Check my channel please! And listen to the best music ever :P\\ufeff',\n",
       "       'SUB 4 SUB PLEASE LIKE THIS COMMENT I WANT A SUCCESFULL YOUTUBE SO PPLEASE LIKE THIS  COMMENT AND SUBSCRIBE IT ONLY TAKES 10 SECONDS PLEASE IF YOU SUBSCRIBE ILL  SUBSCRIBE BACK THANKS\\ufeff',\n",
       "       ' Hey everyone!! I have just started my first YT channel i would be grateful  if some of you peoples could check out my first clip in BF4! and give me  some advice on how my video was and how i could improve it. ALSO be sure to  go check out the about to see what Im all about. Thanks for your time :) .  and to haters... You Hate, I WIN\\ufeff',\n",
       "       'The projects After Effects, Music, Foto, Web sites and another you can find  and buy here  http://audiojungle.net/user/EugeneKalinin/portfolio?ref=EugeneKalinin\\ufeff',\n",
       "       \"YouTube/codytolleson for awesome videos I'll subscribe back \\ufeff\",\n",
       "       'if you like roblox minecraft world of warcraft gta5 mario suscribe to my  channel\\ufeff',\n",
       "       \"SUBSCRIBE TO ME AND I'LL SUBSCRIBE TO YOU! (Must like - cZFcxsn0jnQ) \\ufeff\",\n",
       "       'http://www.twitch.tv/jaroadc come follow and watch my stream!\\ufeff',\n",
       "       'if you like raw talent, raw lyrics, straight real hip hop Everyone check my newest sound  Dizzy X - Got the Juice (Prod by. Drugs the Model Citizen)   COMMENT TELL ME WHAT YOU THINK  DONT BE LAZY!!!!  - 1/7 Prophetz\\ufeff',\n",
       "       '....subscribe......  ......to my........  .....channel.......\\ufeff',\n",
       "       'now its 1,884,034,783 views! pls. comment the view count the next hour :P\\ufeff',\n",
       "       'http://www.avaaz.org/po/petition/Youtube_Corporation_Fox_Broadcasting_Company_Anular_os_strikes_no_Canal_Nostalgia/?cXPZpgb \\ufeff',\n",
       "       'go here to check the views :3\\ufeff',\n",
       "       'thumbs up if u checked this video to see hw views it got\\ufeff',\n",
       "       'Plz subscribe to my channel and I will subscribe back xx\\ufeff',\n",
       "       'i check back often to help reach 2x10^9 views and I avoid watching Baby\\ufeff',\n",
       "       'This video will get to 2 billion just because of people checking if it has  hit 2 billion yet.\\ufeff',\n",
       "       'https://www.facebook.com/pages/Brew-Crew-2014/134470083389909 Like this  facebook-page! Chance to win an Iphone 5S!\\ufeff',\n",
       "       'get GWAR to play 2015 superbowl  http://www.change.org/petitions/the-national-football-league-allow-gwar-to-perform-the-2015-super-bowl-halftime-show#share \\ufeff',\n",
       "       'Pls follow this channel!! http://www.twitch.tv/sevadus\\ufeff',\n",
       "       'hi guys check my youtube channel\\ufeff',\n",
       "       'Subscribe and like to me for more how to videos on minecraft!\\ufeff',\n",
       "       'http://tankionline.com#friend=cd92db3f4 great game check it out!\\ufeff',\n",
       "       'Subscribe ME!\\ufeff',\n",
       "       'Im just to check how much views it has\\ufeff',\n",
       "       'The first comment is chuck norrus ovbiously :D\\ufeff',\n",
       "       'Behold the most viewed youtube video in the history of ever\\ufeff',\n",
       "       'when is this gonna hit 2 billion?\\ufeff',\n",
       "       'the most viewed youtube video of all time?\\ufeff',\n",
       "       '969,210 dislikes like dislike themselves\\ufeff',\n",
       "       'psy=korean\\ufeff',\n",
       "       'OMG this oldspice spraytan party commercial omg....i\\'m sitting here \"NO  this isn\\'t a real thing is it? OMG\" \\ufeff',\n",
       "       'This is the only video on youtube that get so much views just because we  want to see how much views it has. 1.000.000 every day, I mean, Most people  think a video is popular when it actually gets 1.000.000 views.\\ufeff',\n",
       "       \"It's been back for quite a while now.\", '2 Billions in 2014',\n",
       "       'plz check out fablife / welcome to fablife for diys and challenges so plz  subscribe thx!\\ufeff',\n",
       "       'Sub my channel!\\ufeff',\n",
       "       'http://www.ebay.com/itm/131338190916?ssPageName=STRK:MESELX:IT&amp;_trksid=p3984.m1555.l2649 \\ufeff',\n",
       "       'http://www.guardalo.org/best-of-funny-cats-gatti-pazzi-e-divertenti-2013-5287/100000415527985/ \\ufeff',\n",
       "       'if your like drones, plz subscribe to Kamal Tayara. He takes videos with  his drone that are absolutely beautiful.\\ufeff',\n",
       "       'http://hackfbaccountlive.com/?ref=4604617\\ufeff',\n",
       "       'WHATS UP EVERYONE!? :-) I Trying To Showcase My Talent To The World! I Have Over 3000 SUBSCRIBERS! I PROMISE! I Dont Suck! Please Spread My Covers Around, SUBSCRIBE &amp; Share! Thanks so much for all your support! Lucas Trigo -Stay Awesome! \\ufeff',\n",
       "       '-----&gt;&gt;&gt;&gt;  https://www.facebook.com/video.php?v=10200253113705769&amp;set=vb.201470069872822&amp;type=3&amp;permPage=1  &lt;--------\\ufeff',\n",
       "       \"Hi there~I'm group leader of Angel, a rookie Korean pop group. We have four  members, Chanicka, Julie, Stephanie, and myself, Leah. Please feel free to  check out our channel and leave some feedback on our cover videos (:  criticism is welcome as we know we're not top notch singers so please come  leave some constructive feedback on our videos; we appreciate any chance to  improve before auditioning for a Korean management company. We plan on  auditioning for JYP, BigHit, Jellyfish, YG or SM. Thank you for taking time  out of your day to read this !\\ufeff\",\n",
       "       'http://woobox.com/33gxrf/brt0u5 FREE CS GO!!!!\\ufeff',\n",
       "       'Admit it you just came here to check the number of viewers \\ufeff',\n",
       "       'Just coming to check if people are still viewing this video. And  apparently, they still do.\\ufeff',\n",
       "       'Check my first video out\\ufeff', 'Check my channel\\ufeff',\n",
       "       'PSY - GANGNAM STYLE (강남스타일) M/V: http://youtu.be/9bZkp7q19f0\\ufeff',\n",
       "       'Suscribe My Channel Please XD lol\\ufeff',\n",
       "       'Wow. Comments section on this still active. Not bad. Also 5277478 comments.  (Now 79)\\ufeff',\n",
       "       'http://binbox.io/1FIRo#123\\ufeff',\n",
       "       'Ching Ching ling long ding ring yaaaaaa Ganga sty FUCK YOU.\\ufeff',\n",
       "       'https://www.indiegogo.com/projects/cleaning-the-pan--2    please halp me  with my project\\ufeff',\n",
       "       'There is one video on my channel about my brother...\\ufeff',\n",
       "       'Check my channel, please!\\ufeff',\n",
       "       \"Does anyone here use gift cards like Amazon, itunes, psn, google play,  itunes, or any other gift cards? Then you'll be happy to know you can get  free gift card codes for free from an amazing site. Here is a $50 itunes  gift card code XXBB5TCZHM39HVZD\\ufeff\",\n",
       "       'Why does this video have so many views? Because asian things are awesome and non-asian countries are jelly so they  try to learn from asia by looking at this video d:\\ufeff',\n",
       "       'Plizz withing my channel \\ufeff',\n",
       "       'I made a gaming channel (Unique right?) :L Angry Minecraft!\\ufeff',\n",
       "       'Please help me go here http://www.gofundme.com/littlebrother\\ufeff',\n",
       "       'Anybody who subscribes to me will get 10 subscribers\\ufeff',\n",
       "       'http://thepiratebay.se/torrent/6381501/Timothy_Sykes_Collection\\ufeff',\n",
       "       'My videos are half way decent, check them out if you want.\\ufeff',\n",
       "       'they said this video are not deserve 2billion views , while they keep  visiting it to watch the viewer . \\ufeff',\n",
       "       'subscribe to itz recaps and above diddle\\ufeff',\n",
       "       \"Screw this Chinese crap i dont even understand what he is saying. Why isn't  he speaking English like everyone should?\\ufeff\",\n",
       "       'need money?Enjoy https://www.tsu.co/emerson_zanol\\ufeff',\n",
       "       'Sub to my channel visuelgamingzNL I sub back\\ufeff',\n",
       "       'please subscribe i am a new youtuber and need help please subscribe and i  will subscribe back :D hoppa HOPPA GaNgAm StYlE\\ufeff',\n",
       "       'sub me if you dont like the song\\ufeff',\n",
       "       'This is a weird video.\\ufeff',\n",
       "       '8 million likes xD even the subscribers not 8 million xD\\ufeff',\n",
       "       'EHI GUYS CAN YOU SUBSCRIBE IN MY CHANNEL? I AM A NEW YOUTUBER AND I PLAY  MINECRAFT THANKS GUYS!... SUBSCRIBE!\\ufeff',\n",
       "       \"Hi everyone! Do you like music? Then why not check out my music channel.  The LEXIS band will be uploading their own songs and covers soon so don't  miss out. Please SUBSCRIBE too as it does help us out a lot. Just takes one  click. -&gt;\\ufeff\",\n",
       "       'This song never gets old love it.\\ufeff',\n",
       "       'gofundme.com/grwmps\\ufeff',\n",
       "       'Hey guys please check out my new Google+ page it has many funny pictures,  FunnyTortsPics  https://plus.google.com/112720997191206369631/post\\ufeff',\n",
       "       '#2012bitches\\ufeff', 'Made in china....\\ufeff',\n",
       "       '5 milions comentars and 2 bilion views\\ufeff',\n",
       "       'It is 0 zero\\ufeff',\n",
       "       'Mix - PSY - GANGNAM STYLE (강남스타일) M/V: PSY - GANGNAM STYLE (강남스타일) M/V\\ufeff',\n",
       "       'This has had over 2 billion views.  Holy shit.\\ufeff',\n",
       "       'how can there be 2.124.821.694 views, when im the only person alive after  the zombie apocalypse - greetings, spoderman :)\\ufeff',\n",
       "       'Suscribe my channel please\\ufeff',\n",
       "       '2,124923004 wiews... wow\\ufeff',\n",
       "       'guys please subscribe me to help my channel grow please guys\\ufeff',\n",
       "       'Great music anyway\\ufeff',\n",
       "       'PSY - GANGNAM STYLE (강남스타일) M/V: http://youtu.be/9bZkp7q19f0\\ufeff',\n",
       "       'so crazy, over 2 billion views, not US, not Uk, its Korea republic, its  asia\\ufeff',\n",
       "       'Discover a beautiful song of A young Moroccan     http://www.linkbucks.com/AcN2g\\ufeff',\n",
       "       'Like getting Gift cards..but hate spending the cash.... Try Juno Wallet !!! At Juno Wallet you can earn money for gift cards such as ; Nike, Gamestop,  Amazon , Ebay Etc &amp; its easy  Earn money by doing simple task like watching videos..downloading apps &amp;  you can even earn money by inviting your friends to join...its free for  signup Sign up today &amp; use promo code BD3721315\\ufeff',\n",
       "       'Can somebody wake me up when we get to 3 billion views.\\ufeff',\n",
       "       'PSY GOT LOTS  OF MONEY FROM YOUTUBE THAT HE GOT FROM 2 BILLION VIEWS THIS  IS THE MOST VIEWS IN THE WORLD :D\\ufeff',\n",
       "       'Justin bieber = gay \\ufeff',\n",
       "       \"You gotta say its funny. well not 2 billion worth funny but still. It  clicked and everything went uphill. At least you don't have JB's shit on  #1.\\ufeff\",\n",
       "       '❤️ ❤️ ❤️ ❤️ ❤️❤️❤️❤️\\ufeff', 'Ahhh, 2 years ago....\\ufeff',\n",
       "       'Dance dance,,,,,Psy  http://www.reverbnation.com/msmarilynmiles\\ufeff',\n",
       "       'check out \"starlitnightsky\" channel to see epic videos\\ufeff',\n",
       "       'https://www.tsu.co/KodysMan plz ^^\\ufeff',\n",
       "       'Stupid people... this video doesnt have 2 billion visits. Have 2 thousands  millions\\ufeff',\n",
       "       'http://www.gcmforex.com/partners/aw.aspx?Task=JoinT2&amp;AffiliateID=9107\\ufeff',\n",
       "       'check men out i put allot of effort into my music but unfortunatly not many  watch it\\ufeff',\n",
       "       'pls http://www10.vakinha.com.br/VaquinhaE.aspx?e=313327 help me get vip gun  cross fire al\\ufeff',\n",
       "       'Add me here...https://www.facebook.com/TLouXmusic\\ufeff',\n",
       "       'CHECK MY CHANNEL OUT PLEASE. I DO SINGING COVERS\\ufeff',\n",
       "       'I think this is now a place to promote channels in the comment section lol.\\ufeff',\n",
       "       'Get free gift cards and pay pal money!\\ufeff',\n",
       "       'Check out pivot animations in my channel\\ufeff',\n",
       "       'Follow me on twitter &amp; IG : __killuminati94\\ufeff',\n",
       "       \"Check me out I'm all about gaming \\ufeff\",\n",
       "       'Oppa! Yeah! Best Song!\\ufeff',\n",
       "       'More... http://www.sunfrogshirts.com/Sunglass-World.html?24398\\ufeff',\n",
       "       'https://www.facebook.com/teeLaLaLa\\ufeff',\n",
       "       'http://www.twitch.tv/zxlightsoutxz\\ufeff',\n",
       "       'reminds me of this song https://soundcloud.com/popaegis/wrenn-almond-eyes\\ufeff',\n",
       "       'What free gift cards? Go here  http://www.swagbucks.com/p/register?rb=13017194\\ufeff',\n",
       "       'Search \"Chubbz Dinero - Ready Or Not \" Thanks \\ufeff',\n",
       "       'Follow me on Twitter @mscalifornia95\\ufeff',\n",
       "       '😫😓😏😪😔😖😌😭😎😚😘😙😗😋😝😜😛😍😒😞😷😶😵😳😲😱😟😰😩😨😧😦😥😤😣😮😴😢😡😠😬😕😑😐😯😉😈😇😆😅😄😃😂😁😀😊☺  every single types of face on earth\\ufeff',\n",
       "       '▬▬▬▬▬▬▬▬▬▬ஜ۩۞۩ஜ▬▬▬▬▬▬▬▬ ＤＡＭＮ ＴＨＩＳ ＣＯＭＭＥＮＴ ＩＳ ＦＡＮＣY ▬▬▬▬▬▬▬▬▬▬ஜ۩۞۩ஜ▬▬▬▬▬▬▬▬\\ufeff',\n",
       "       \"CHECK MY CHANNEL FOR MY NEW SONG 'STATIC'!! YOU'LL LOVE IT!!\\ufeff\",\n",
       "       'Incmedia.org where the truth meets you.\\ufeff',\n",
       "       'look at my channel i make minecraft pe lets play \\ufeff',\n",
       "       'I found out this song now\\ufeff', '2 BILLION!!!\\ufeff',\n",
       "       'Song name??\\ufeff',\n",
       "       'please like : http://www.bubblews.com/news/9277547-peace-and-brotherhood\\ufeff',\n",
       "       'hey again if you guys wouldnt mind chacking out my rap give it like and il  giver 3 of your vids a like\\ufeff',\n",
       "       'http://www.amazon.co.uk/gp/offer-listing/B00ECVF93G/sr=8-2/qid=1415297812/ref=olp_tab_refurbished?ie=UTF8&amp;condition=refurbished&amp;qid=1415297812&amp;sr=8-2 \\ufeff',\n",
       "       'The most watched video on YouTube is Psy’s “Gangnam Style”, with 2.1  billion views. PSY - GANGNAM STYLE (강남스타일) M/V\\ufeff',\n",
       "       \"Subscribe to me and I'll subscribe back!!!\\ufeff\",\n",
       "       'http://flipagram.com/f/LUkA1QMrhF\\ufeff',\n",
       "       'For Christmas Song visit my channel! ;)\\ufeff',\n",
       "       'http://www.gofundme.com/gvr7xg\\ufeff',\n",
       "       'Subscribe to me i subscribe back!!!! Plus i have a nice ass lol\\ufeff',\n",
       "       'https://www.change.org/p/facebook-twitter-youtube-do-not-censor-julien-blanc \\ufeff',\n",
       "       'https://soundcloud.com/jackal-and-james/wrap-up-the-night\\ufeff',\n",
       "       'https://www.surveymonkey.com/s/CVHMKLT\\ufeff',\n",
       "       \"Please give us a chance and check out the new music video on our channel!  You won't be disappointed.\\ufeff\",\n",
       "       'Please subscribe to me\\ufeff',\n",
       "       'This is the best, funny and viral video of history (youtube) THE TRUE\\ufeff',\n",
       "       'Please check out my vidios\\ufeff', 'OPPA GANGNAM STYLE!!!\\ufeff',\n",
       "       \"The funny thing is, 1,700,000,000 of the views are spam bots. I mean c'mon  2 BILLION views? BS!\\ufeff\",\n",
       "       'OPPA &lt;3\\ufeff',\n",
       "       \"It's so funny it's awesomeness lol aaaaaaa sexy lada😂\\ufeff\",\n",
       "       'most viewed video in the world\\ufeff',\n",
       "       \"I'm here to check the views.. holy shit\\ufeff\",\n",
       "       'Dear person reading this, You are beautiful and loving Have a great day\\ufeff',\n",
       "       'http://www.ermail.pl/dolacz/V3VeYGIN CLICK  http://www.ermail.pl/dolacz/V3VeYGIN  http://www.ermail.pl/dolacz/V3VeYGIN  http://www.ermail.pl/dolacz/V3VeYGIN  http://www.ermail.pl/dolacz/V3VeYGIN  http://www.ermail.pl/dolacz/V3VeYGIN  http://www.ermail.pl/dolacz/V3VeYGIN\\ufeff',\n",
       "       \"Have you tried a new social network TSU? This new social network has a  special thing.You can share the posts as well as on fb and twitter and even  to'll get paid You can registr here:  https://www.tsu.co/WORLDWIDE_LIFE\\ufeff\",\n",
       "       'The Guy in the yellow suit kinda looks like Jae-suk \\ufeff',\n",
       "       \"People, here is a new network like FB...you register also free, the  difference is only that you get paid for sharing, commenting and liking  posts and so one...don't waste your time on fb for sharing and not being  paid!! Register here to make also money with your everyday posts!!  https://www.tsu.co/slema13 Wellcome to everyone! ;)\\ufeff\",\n",
       "       'How are there 2 billion views and theres only 2 million people in the  world!?!?!?!! MULTIPLE ACCOUNTS!!!1111\\ufeff',\n",
       "       'WAT DA FUCK THIS THE MOST VIEWED VIDEO IN YOUTUBE!\\ufeff',\n",
       "       'OMG 2/7 People watched this video because there are 7 billion people in the  world and 2 billion watched this\\ufeff',\n",
       "       'What is he saying?!?!?!?!?!?!?!?$? \\ufeff',\n",
       "       'this has so many views\\ufeff', 'OMG over 2 billion views!\\ufeff',\n",
       "       'Subscribe to me plz plz plz plz plz plZ \\ufeff',\n",
       "       \"http://www.twitch.tv/tareko100 Follow him on twitch and enter the keyword  !5800 and you'll have a chance of winning a really nice and expensive gun  for csgo that you can sell on the steam market\\ufeff\",\n",
       "       'i am 2,126,492,636 viewer :D\\ufeff',\n",
       "       'https://www.tsu.co/Aseris get money here !\\ufeff',\n",
       "       'Fantastic!\\ufeff',\n",
       "       'The population of world is more than 7 billion\\ufeff',\n",
       "       '2.126.521.750  views!!!!!!!!!!!!!!!!!\\ufeff',\n",
       "       'Wow 23 min ago\\ufeff',\n",
       "       'SUPER!!! !!!!!!!!!!!!!!!!!!!!!!!!!!!!!!!!!!!!!!!!\\ufeff',\n",
       "       'P E A C E  &amp;  L O V E  ! !\\ufeff',\n",
       "       'How can this music video get 2 billion views while im the only one watching  here on earth?????? lol\\ufeff',\n",
       "       'Please friend read my book and repass: http://www.4shared.com/web/preview/pdf/CjFofTxeba?\\ufeff',\n",
       "       'subscribe to me :) \\ufeff', 'Still the best. :D\\ufeff',\n",
       "       'The most liked video on YouTube...\\ufeff',\n",
       "       'Still watching this 2 years later? \\ufeff',\n",
       "       \"Hello! I'm kind of new to Youtube, And soon i'm soon going to be making  Launchpad Video's! :D I would really appreciate if i got some subs before i  started so that people can spot me easily! I dont really care about hate  comments so dont bother -_-\\ufeff\",\n",
       "       'Lol...I dunno how this joke gets a lot of likes, but whatever. xD\\ufeff',\n",
       "       '2 Billion Views For This Piece Of Shit... ~ A R E ~ Y O U ~ K I D D I N G ~ M E ~\\ufeff',\n",
       "       'GANGMAN STY- *D-D-D-D-D-D--DROP THE BASS!!*\\ufeff',\n",
       "       'Will this song ever reach 7 Billion Views?\\ufeff',\n",
       "       'Im a RAPPER/SONGWRITER, check my video PLEASE..also subscribe for more  thanks :) tell me what you think.\\ufeff',\n",
       "       'Hello all 29.24% earth population of the world, hope your having a great  day :)\\ufeff',\n",
       "       'Is this the video that started the whole \"got my dick stuck in an elevator\"  excuse thing? \\ufeff',\n",
       "       'Can anyone sub to my channel? :D\\ufeff',\n",
       "       'prehistoric song..has been\\ufeff',\n",
       "       \"You think you're smart?        Headbutt your face.\\ufeff\",\n",
       "       'DISLIKE.. Now one knows REAL music - ex. Enimen \\ufeff',\n",
       "       'Loool nice song funny how no one understands (me) and we love it\\ufeff',\n",
       "       'Like if you came here too see how many views this song has.\\ufeff',\n",
       "       'We pray for you Little Psy ♡\\ufeff',\n",
       "       \"''Little Psy, only 5 months left.. Tumor in the head :( WE WILL MISS U &lt;3\\ufeff\",\n",
       "       ' Follow me on Instagram. _chris_cz  \\ufeff',\n",
       "       'how is this shit still relevant \\ufeff',\n",
       "       'LOL this shit never gets old\\ufeff',\n",
       "       'What Can i say....This Song He Just Change The World Completely... So good job PSY... (and your girls are awesome :))) )\\ufeff',\n",
       "       'On 0:02 u can see the camera man on his glasses....\\ufeff',\n",
       "       'this comment is wrong\\ufeff',\n",
       "       'i hate this music. fucking singer and every koean chainise ana US sucks me dick.\\ufeff',\n",
       "       '2:05. Hahahahah \\ufeff',\n",
       "       'Can we reach 3 billion views by December 2014? \\ufeff',\n",
       "       'Dumb Guy: Why is there 2 billion views when there are 7 million people on  earth??? Also, I know what 1+1 equals! 1+1=1! I am a smartie pants\\ufeff',\n",
       "       'People Who Say That \"This Song Is Too Old Now, There\\'s No Point Of  Listening To It\" Suck. Just Stfu And Enjoy The Music. So, Your Mom Is Old  Too But You Still Listen To Her Right?....\\ufeff',\n",
       "       'The Funny Thing Is That this song was made in 2009 but it took 2 years to  get to america.\\ufeff',\n",
       "       'why I dont see any comments but mine?:/\\ufeff',\n",
       "       'this jap is such a piece of shit. he is such a worthless fish head. i dont  know how any one likes this dumb untanlted gook. this isnt even fucken  music. this is so fucking sad that this is even such thing. people are so  fucked up.\\ufeff',\n",
       "       'I remember when everyone was obsessed with Gangnam Style 😗\\ufeff',\n",
       "       'Remove This video its wank\\ufeff',\n",
       "       \"It's so hard, sad :( iThat little child Actor HWANG MINOO dancing very  active child is suffering from brain tumor, only 6 month left for him .Hard  to believe .. Keep praying everyone for our future superstar.  #StrongLittlePsY #Fighting  SHARE EVERYONE PRAYING FOR HIM http://ygunited.com/2014/11/08/little-psy-from-the-has-brain-tumor-6-months-left-to-live/ \\ufeff\",\n",
       "       'Why the fuck this keeps updated? Comments :\"5 minutes ago\" Song: \"2 years and  4 months ago\"\\ufeff',\n",
       "       'MANY MEMORIES...........\\ufeff',\n",
       "       'why are they 5million comments when there is only 279.898 youtube Users.   5million fake account or PSY hacked youtube\\ufeff',\n",
       "       '2,000,000,000 out of 7,000,000,000 people in the would saw this video just  in 2 years and yeat i only get 2 words out of the hole song\\ufeff',\n",
       "       'This video is so cool, again and again!\\ufeff',\n",
       "       'I am now going to voyage to the first comment...      Tell my family I loved them. 😢\\ufeff',\n",
       "       \"How did THIS Video in all of YouTube get this many views and likes? Why  Gangnam style? I don't have a problem with it, i just don't understand the  phenomena behind it, it's just like any other random music video out  there. \\ufeff\",\n",
       "       \"With the korean girl more slut and bitch : Hyuna :'33\\ufeff\",\n",
       "       \"Hey guys! Check this out: Kollektivet - Don't be slappin' my penis!  I  think that they deserve much more credit than they receive.\\ufeff\",\n",
       "       'Still a very fun music video to watch! \\ufeff',\n",
       "       \"C'mon 3 billion views!!!!!!!!\\ufeff\",\n",
       "       'Hey everyone, I am a new channel and will post videos of book reviews and  music on the flute. Please subscribe if you would enjoy that. Thanks!\\ufeff',\n",
       "       \"Hey I think I know what where dealing with here!!!! I have some theories of  how this could've gotten 2billion hits!! 1. This was mabey made in korea and its realy popular there so they were  stuck watching this over and over again. 2. Over 2billion people have access to the Internet, including youtube, and  the numbers are rising, by 2017 half of the populatoin will be connected. 3. Hackers In Korea may have loved it so much they rised it to 2billion  hits to make it more popular.  4. The song was featured in a just dance game, on multiple mp3s, and been  seen on concerts and even on new years eve event in 2012, so just by seeing  those you mabey adding more hits to this video. 5. You are complaining to much on how the heck this has 2b hits.\\ufeff\",\n",
       "       'subscribe my chanel\\ufeff',\n",
       "       'THIS HAS MORE VIEWS THAN QUEEN AND MICHAEL JACKSON, 2 BILLION views omg\\ufeff',\n",
       "       'LoL\\ufeff',\n",
       "       'If you pause at 1:39 at the last millisecond you can see that that chick is  about to laugh. Takes a few tries.\\ufeff',\n",
       "       \"9 year olds be like, 'How does this have 2 billion views when there are  only 3 people in the world'\\ufeff\",\n",
       "       'PSY is a good guy\\ufeff',\n",
       "       'WHY DOES THIS HAVE 2 BILLION VIEWS THIS SONG IS SO ANNOYING\\ufeff',\n",
       "       'https://www.facebook.com/pages/Mathster-WP/1495323920744243?ref=hl\\ufeff',\n",
       "       '1 millioon dislikesssssssssssssssssssssssssssssssss.............\\ufeff',\n",
       "       'The little PSY is suffering Brain Tumor and only has 6 more months to live.  Please pray to him and the best lucks.\\ufeff',\n",
       "       'For all of the little kidz out there there is Like 7 to 8 Billon people on  earth NOT 7 to 8 MILLON.Get you facts straight before posting comments.\\ufeff',\n",
       "       'How stupid humanity is\\ufeff',\n",
       "       'Come and watch my video it is called the odowd crowd zombie movie part 1 \\ufeff',\n",
       "       'You know a song sucks dick when you need to use google translate to know  what the fuck its saying!\\ufeff',\n",
       "       'We get it, you came here for the views... \\ufeff',\n",
       "       'Wow this video is the most viewed youtube video.. second that comes Justin  bieber- baby SMH WHAT HAS THE WORLD COME TO\\ufeff',\n",
       "       'Hey, join me on tsū, a publishing platform where I share my content now:  http://tsu.co/MarkusMairhofer\\ufeff',\n",
       "       'This song is great there are 2,127,315,950 views wow\\ufeff',\n",
       "       \"I'm watching this in 2014\\ufeff\",\n",
       "       'Most viewed video on youtube...daaaaaaaaaaannng those views can almost  dominate the entire...china...\\ufeff',\n",
       "       'how does this video have 2,127,322,484 views if there are only 7 million  people on earth?\\ufeff',\n",
       "       'What my gangnam style\\ufeff',\n",
       "       'Lol this youtuber (officialpsy) is getting so much money lol\\ufeff',\n",
       "       '1 million dislikes!EPIC FAIL(ready for you fanboys)\\ufeff',\n",
       "       'If I knew Korean, this would be even funnier. At least a bit at the end was  in English, but was spoken quite rapidly.\\ufeff',\n",
       "       'Enough with the whole \"how does this have two billion views if there\\'s only  7 million on the planet\" we get it. You\\'re joking. It\\'s not funny anymore.\\ufeff',\n",
       "       \"If I get 100 subscribers, I will summon Freddy Mercury's ghost to whipe  from the face of earth One Direction and Miley Cirus.\\ufeff\",\n",
       "       \"if i reach 100 subscribers i will go round in public pouring a bucket of  ice water over people and then running away acting like it wasn't me! like  so people can see!!\\ufeff\",\n",
       "       'YOUTUBE MONEY !!!!!!!!!!!!!!!!!!!!!!!\\ufeff',\n",
       "       '2 billion for this shit?\\ufeff',\n",
       "       '2 billion views, only 2 million shares\\ufeff',\n",
       "       'Hi guys my name is Dylan and I do IRL football videos I have 1030  subscribers and I think you guys would like my content so come check it out  and if you do subscribe!\\ufeff',\n",
       "       \"If I get 300 subscribers by tomorrow I'll do a epic Hunger Games Video! \\ufeff\",\n",
       "       'follower please https://www.facebook.com/lists/161620527267482\\ufeff',\n",
       "       \"2 billion views wow not even baby by justin beibs has that much he doesn't  deserve a capitalized name\\ufeff\",\n",
       "       'If i reach 100 subscribers i will tazz my self and my friend\\ufeff',\n",
       "       'Please help me go to college guys! Thanks from the bottom of my heart.  https://www.indiegogo.com/projects/i-want-to-go-to-college--19/x/9082175\\ufeff',\n",
       "       'https://www.facebook.com/SchoolGeniusNITS/photos/ms.c.eJw9kVkOxDAMQm808h5z~;4sNjqP~_tHqBEuM69AQUp1Ih~_fPHgk5zLLsVdQv0ZUf0MB~;LnUJ~;ufTH4YoKfRxYts2zvrrp6qGtw67y~;L551h~;f7~_vlcZzRG8vGCTlPSD9ONGeWhj8~_GIbu~;S3lzMvY~;IQ2~;TwSfzz9WHn7JUSvHufpglQRZczl05fNPhaGeVb3x8yDmC6X~_~;jTcjnMho~;vfXWCjZyvWObihrnGx2ocjnG2PG1EvHXzyjD~_o3h~_RY6f57sPrnD2xV~;~_BzszZ~;8~-.bps.a.390875584405933/391725794320912/?type=1&amp;theater \\ufeff',\n",
       "       'I am so awesome and smart!!! Sucscribe to me!\\ufeff',\n",
       "       'Follow 4 Follow                           @ VaahidMustafic Like 4 Like \\ufeff',\n",
       "       'http://hackfbaccountlive.com/?ref=4436607  psy news offıcal \\ufeff',\n",
       "       'https://www.facebook.com/nicushorbboy add mee &lt;3 &lt;3\\ufeff',\n",
       "       \"im sorry for the spam but My name is Jenny. I go to high school where  everyone dresses fashionable but for me I don't because i need money to buy  cute clothes. I have low self esteem . I live with my dad. my mom passed  away when i was 6 so i don't really have a mother figure. I have 2 brothers  who is older than me. Since they are boys they get the attention while i  just be alone. I really want to wear pretty clothes like the girls in my  school and get a boyfriend. i just can't be my self. im very quite and shy  at school because i don't have the confidence in myself to talk to someone.  i did have one friend name Caroline but she moved away so now im alone. if  you could donate some money to me it would be great. i don't care about  expensive brand ill just shop at walmart because they have pretty clothes.  also i wanna get my nails done at a salon . i see alot of girls have these  french tips. i never had my nail did at a salon before i will really  appreciate if i can and get my hair curled too. http://www.gofundme.com/dressprettyonce thanks omg please.\\ufeff\",\n",
       "       ' I hate this song! \\ufeff',\n",
       "       'please throw a sub on my channel\\ufeff',\n",
       "       \"NEW GOAL!   3,000,000!  Let's go for it!\\ufeff\",\n",
       "       'Go to my channel if u want to see a fly getting burned alive\\ufeff',\n",
       "       'just came here to check the views :P\\ufeff',\n",
       "       'COME AND CHECK OUT MY NEW YOUTUBE CHHANEL, GOING TO BE POSTING DAILY!\\ufeff',\n",
       "       \"I hav absolutely no idea what he's saying. Is it even a language?\\ufeff\",\n",
       "       'Please check out my vidios guys\\ufeff',\n",
       "       'I still to this day wonder why this video is so popular ?? illuminati  confirmed ??\\ufeff',\n",
       "       \"Hey guys can you check my channel out plz. I do mine craft videos. Let's  shoot for 20 subs\\ufeff\",\n",
       "       'This is getting old.........\\ufeff',\n",
       "       'PLEASE SUBSCRIBE ME!!!!!!!!!!!!!!!!!!!!!!!!!!!!!!!!!!!!!!!!!!!!!!!!!!!!\\ufeff',\n",
       "       'just came to check the view count\\ufeff',\n",
       "       'Check out my Music Videos! Fuego - U LA LA Remix  hyperurl.co/k6a5xt\\ufeff',\n",
       "       'Check out my Music Videos! and PLEASE SUBSCRIBE!!!! Fuego - U LA LA Remix  hyperurl.co/k6a5xt\\ufeff',\n",
       "       'www.marketglory.com/strategygame/lordviperas\\ufeff',\n",
       "       \"If the shitty Chinese Government didn't block YouTube over there, there'd  be close to 3 billion views right now. \\ufeff\",\n",
       "       'WORLD RECORD YOUTUBE VIDEO VIEWS !!!!!! XD\\ufeff',\n",
       "       'I think he was drunk during this :) x)\\ufeff',\n",
       "       'Limit sun exposure while driving. Eliminate the hassle of having to swing  the car visor between the windshield and window.  https://www.kickstarter.com/projects/733634264/visortwin\\ufeff',\n",
       "       'Hahah, juyk! I allways laugh at the part 1:57.. LOL!\\ufeff',\n",
       "       'http://hackfbaccountlive.com/?ref=5242575\\ufeff',\n",
       "       'I wanted to know the name of the guy that dances at 00:58, anybody knows ?\\ufeff',\n",
       "       'https://www.facebook.com/FUDAIRYQUEEN?pnref=story\\ufeff',\n",
       "       'Haha its so funny to see the salt of westerners that top views of youtube  goes to video they dont even understand, keep the salt up!\\ufeff',\n",
       "       'FOLLOW MY COMPANY ON TWITTER  thanks.  https://twitter.com/TheWaxedHatCo\\ufeff',\n",
       "       'imagine if this guy put adsense on with all these views... u could pay ur  morgage\\ufeff',\n",
       "       \"Hey come check us out were new on youtube let us know what you think and  don't forget to subscribe thanks.\\ufeff\",\n",
       "       'The girl in the train who was dancing, her outfit was so fucking sexy, but  the huge turn-off was she lacked eyebrows D:\\ufeff',\n",
       "       'Look at the pictures, if not difficult http://image2you.ru/48051/1340524/        http://image2you.ru/48051/1340523/          http://image2you.ru/48051/1340522/ http://image2you.ru/48051/1340521/             http://image2you.ru/48051/1340520/       http://image2you.ru/48051/1340519/  http://image2you.ru/48051/1340518/            http://image2you.ru/48051/1340517/          http://image2you.ru/48051/1340504/ http://image2you.ru/48051/1340503/              http://image2you.ru/48051/1340502/            http://image2you.ru/48051/1340500/ http://image2you.ru/48051/1340499/        http://image2you.ru/48051/1340494/             http://image2you.ru/48051/1340493/ http://image2you.ru/48051/1340492/        http://image2you.ru/48051/1340491/           http://image2you.ru/48051/1340490/ http://image2you.ru/48051/1340489/             http://image2you.ru/48051/1340488/\\ufeff',\n",
       "       \"Don't mind me, I'm just checking what the views are up to : )\\ufeff\",\n",
       "       'Hey guys can you check my YouTube channel I know you hate comments like  this one but I promise if you check my videos it will be entertaining I do  Shotgun Montages,Ninja Defuse Montages and Trolling please guys can you  check them out and thanks have a good day!!!!!!!\\ufeff',\n",
       "       \"To everyone joking about how he hacked to get 2 billion views because  there's a certain amount of people or whatever,  He actually did buy views.\\ufeff\",\n",
       "       'https://www.facebook.com/tofikmiedzynB/photos/a.1496273723978022.1073741828.1496241863981208/1498561870415874/?type=1&amp;theater \\ufeff',\n",
       "       'https://www.facebook.com/eeccon/posts/733949243353321?comment_id=734237113324534&amp;offset=0&amp;total_comments=74   please like frigea marius gabriel comment :D\\ufeff',\n",
       "       'http://www.bing.com/explore/rewards?PUBL=REFERAFRIEND&amp;CREA=RAW&amp;rrid=_0f9fa8aa-243a-5c2f-c349-ede05ea397ca Bing rewards, earn free money. AND NO U CANT GET UR VIRUS IN BLUE!\\ufeff',\n",
       "       \"Please do buy these new Christmas shirts! You can buy at any time before  December 4th and they are sold worldwide! Don't miss out:  http://teespring.com/treechristmas\\ufeff\",\n",
       "       'Free my apps get 1m crdits ! Just click on the link and download a app and  done!! · Link: https://m.freemyapps.com/share/url/5af506e1\\ufeff',\n",
       "       'Why does a song like this have more views than Michael Jackson SMH\\ufeff',\n",
       "       ' Something to dance to, even if your sad JUST dance!!   PSY - GANGNAM STYLE (강남스타일) M/V: http://youtu.be/9bZkp7q19f0\\ufeff',\n",
       "       'everyones back lool this is almost 3 years old and people are still hear!  xD\\ufeff',\n",
       "       \"How can this have 2 billion views when there's only me on the planet? LOL\\ufeff\",\n",
       "       \"I don't now why I'm watching this in 2014\\ufeff\",\n",
       "       'subscribe to me for call of duty vids and give aways Goal-100 subs\\ufeff',\n",
       "       'hi guys please my android photo editor download. thanks https://play.google.com/store/apps/details?id=com.butalabs.photo.editor\\ufeff',\n",
       "       'The first billion viewed this because they thought it was really cool, the  other billion and a half came to see how stupid the first billion were...\\ufeff'],\n",
       "      dtype=object)"
      ]
     },
     "execution_count": 16,
     "metadata": {},
     "output_type": "execute_result"
    }
   ],
   "source": [
    "X"
   ]
  },
  {
   "cell_type": "markdown",
   "id": "4afa4295-d89e-422a-bf27-e37b6b431ff2",
   "metadata": {},
   "source": [
    "## Metinleri Vektöre Çevir"
   ]
  },
  {
   "cell_type": "code",
   "execution_count": 17,
   "id": "4fef7ba8-ba04-4cf3-9e15-c150a886eb7d",
   "metadata": {},
   "outputs": [],
   "source": [
    "vect=CountVectorizer()"
   ]
  },
  {
   "cell_type": "code",
   "execution_count": 18,
   "id": "de085338-9798-48c1-9e22-1bc2640c5683",
   "metadata": {},
   "outputs": [],
   "source": [
    "X_vect=vect.fit_transform(X)"
   ]
  },
  {
   "cell_type": "code",
   "execution_count": 21,
   "id": "bbeb40f0-4675-421c-89d3-5b9b1b6b4d7a",
   "metadata": {},
   "outputs": [],
   "source": [
    "X_train,X_test,y_train, y_test=train_test_split(X_vect,y, \n",
    "                                                test_size=.2, \n",
    "                                                random_state=42)"
   ]
  },
  {
   "cell_type": "code",
   "execution_count": 22,
   "id": "02de249f-b07e-4c6d-bb20-622fa9388d2b",
   "metadata": {},
   "outputs": [
    {
     "data": {
      "text/plain": [
       "<280x1418 sparse matrix of type '<class 'numpy.int64'>'\n",
       "\twith 3560 stored elements in Compressed Sparse Row format>"
      ]
     },
     "execution_count": 22,
     "metadata": {},
     "output_type": "execute_result"
    }
   ],
   "source": [
    "X_train"
   ]
  },
  {
   "cell_type": "markdown",
   "id": "6905947e-a2dc-4a29-88fc-5afe1c392f69",
   "metadata": {},
   "source": [
    "## Modelleme"
   ]
  },
  {
   "cell_type": "code",
   "execution_count": 23,
   "id": "2c47ded8-e135-4f82-b8d3-2c1fe0681511",
   "metadata": {},
   "outputs": [],
   "source": [
    "bnb=BernoulliNB()"
   ]
  },
  {
   "cell_type": "code",
   "execution_count": 24,
   "id": "d08e7bd4-4176-4464-acda-31771ea1d6e8",
   "metadata": {},
   "outputs": [],
   "source": [
    "model=bnb.fit(X_train,y_train)"
   ]
  },
  {
   "cell_type": "markdown",
   "id": "43f1a1ac-5f57-40ec-bd53-ed8c6d58fc45",
   "metadata": {},
   "source": [
    "## Değerlendirme"
   ]
  },
  {
   "cell_type": "code",
   "execution_count": 25,
   "id": "771939b6-09f7-41c7-b467-d6b1b63a0ad3",
   "metadata": {},
   "outputs": [],
   "source": [
    "predicts=model.predict(X_test)"
   ]
  },
  {
   "cell_type": "code",
   "execution_count": 28,
   "id": "0d2eed13-e673-4069-bbd2-78867731f6a4",
   "metadata": {},
   "outputs": [
    {
     "data": {
      "text/plain": [
       "array([1, 1, 1, 0, 1, 0, 0, 0, 0, 0, 1, 1, 1, 0, 1, 1, 1, 1, 1, 0, 0, 1,\n",
       "       0, 0, 0, 1, 0, 1, 1, 0, 1, 1, 1, 0, 0, 1, 1, 1, 0, 1, 1, 1, 1, 1,\n",
       "       0, 1, 1, 1, 1, 1, 1, 1, 0, 0, 0, 0, 0, 0, 1, 1, 1, 0, 0, 1, 1, 0,\n",
       "       1, 1, 1, 0], dtype=int64)"
      ]
     },
     "execution_count": 28,
     "metadata": {},
     "output_type": "execute_result"
    }
   ],
   "source": [
    "predicts"
   ]
  },
  {
   "cell_type": "code",
   "execution_count": 29,
   "id": "5ba8a810-e98f-4f71-9dc9-c4c2bd7e042b",
   "metadata": {},
   "outputs": [
    {
     "data": {
      "text/plain": [
       "0.9857142857142858"
      ]
     },
     "execution_count": 29,
     "metadata": {},
     "output_type": "execute_result"
    }
   ],
   "source": [
    "accuracy_score(predicts,y_test) # gerçek sonuçlarla tahminleri karşılaştır"
   ]
  },
  {
   "cell_type": "code",
   "execution_count": 40,
   "id": "123e5740-5870-49ac-8034-6f16bbca287e",
   "metadata": {},
   "outputs": [
    {
     "name": "stdin",
     "output_type": "stream",
     "text": [
      "input new comment text box area anyway check out this my youtube channel:\n"
     ]
    }
   ],
   "source": [
    "new_comment=input('input new comment text box area')"
   ]
  },
  {
   "cell_type": "code",
   "execution_count": 41,
   "id": "a58975ab-cf2c-438c-8d4e-85d8a0e5c401",
   "metadata": {},
   "outputs": [],
   "source": [
    "new_comment=vect.transform([new_comment])"
   ]
  },
  {
   "cell_type": "code",
   "execution_count": 42,
   "id": "2cfdc1de-1ef3-4bf6-b798-b6193cf5ca79",
   "metadata": {},
   "outputs": [
    {
     "name": "stdout",
     "output_type": "stream",
     "text": [
      "Spam [1]\n"
     ]
    }
   ],
   "source": [
    "spam_pred=model.predict(new_comment)\n",
    "print('Spam', spam_pred)"
   ]
  }
 ],
 "metadata": {
  "kernelspec": {
   "display_name": "Python 3 (ipykernel)",
   "language": "python",
   "name": "python3"
  },
  "language_info": {
   "codemirror_mode": {
    "name": "ipython",
    "version": 3
   },
   "file_extension": ".py",
   "mimetype": "text/x-python",
   "name": "python",
   "nbconvert_exporter": "python",
   "pygments_lexer": "ipython3",
   "version": "3.12.4"
  }
 },
 "nbformat": 4,
 "nbformat_minor": 5
}
